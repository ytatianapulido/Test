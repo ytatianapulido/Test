{
 "cells": [
  {
   "cell_type": "code",
   "execution_count": 1,
   "id": "1d23b70a",
   "metadata": {},
   "outputs": [],
   "source": [
    "import pandas as pd\n",
    "import numpy as np\n",
    "import datetime\n",
    "from itertools import compress"
   ]
  },
  {
   "cell_type": "code",
   "execution_count": 2,
   "id": "1e913798",
   "metadata": {},
   "outputs": [],
   "source": [
    "DATOS_TRANSACCIONALES_1 = pd.read_parquet('sample_data_0006_part_00.parquet', engine='pyarrow')"
   ]
  },
  {
   "cell_type": "code",
   "execution_count": 122,
   "id": "b6679dbf",
   "metadata": {},
   "outputs": [
    {
     "data": {
      "text/plain": [
       "(10758418, 8)"
      ]
     },
     "execution_count": 122,
     "metadata": {},
     "output_type": "execute_result"
    }
   ],
   "source": [
    "DATOS_TRANSACCIONALES_1.shape"
   ]
  },
  {
   "cell_type": "code",
   "execution_count": 4,
   "id": "af3cbbd6",
   "metadata": {},
   "outputs": [],
   "source": [
    "DATOS_TRANSACCIONALES_2 = pd.read_parquet('sample_data_0007_part_00.parquet', engine='pyarrow')"
   ]
  },
  {
   "cell_type": "code",
   "execution_count": 35,
   "id": "e9e638e1",
   "metadata": {},
   "outputs": [
    {
     "data": {
      "text/plain": [
       "numpy.timedelta64(2935,'h')"
      ]
     },
     "execution_count": 35,
     "metadata": {},
     "output_type": "execute_result"
    }
   ],
   "source": [
    "np.timedelta64(DATOS_TRANSACCIONALES_1['transaction_date'][1] - DATOS_TRANSACCIONALES_1['transaction_date'][1000000], 'h' )\n",
    "#(df.fr-df.to).astype('timedelta64[h]')"
   ]
  },
  {
   "cell_type": "code",
   "execution_count": 162,
   "id": "7d0b9234",
   "metadata": {},
   "outputs": [],
   "source": [
    "## SUMA Y CONTEO 24HORAS\n",
    "DATOS_TRANSACCIONALES_1['suma_trx'] = DATOS_TRANSACCIONALES_1.groupby([pd.Grouper(key='transaction_date', freq='24h'), 'user_id'])['transaction_amount'].transform('sum')\n",
    "DATOS_TRANSACCIONALES_1['count_trx'] = DATOS_TRANSACCIONALES_1.groupby([pd.Grouper(key='transaction_date', freq='24h'), 'user_id'])['transaction_amount'].transform('count')"
   ]
  },
  {
   "cell_type": "code",
   "execution_count": 165,
   "id": "fc1c4998",
   "metadata": {},
   "outputs": [],
   "source": [
    "## SUMAR POR CREDITO Y DEBITO\n",
    "DATOS_TRANSACCIONALES_1['suma_trx_debito'] = DATOS_TRANSACCIONALES_1[DATOS_TRANSACCIONALES_1['transaction_type'] == 'DEBITO'].groupby([pd.Grouper(key='transaction_date', freq='24h'), 'user_id'])['transaction_amount'].transform(np.sum)\n",
    "DATOS_TRANSACCIONALES_1['suma_trx_credito'] = DATOS_TRANSACCIONALES_1[DATOS_TRANSACCIONALES_1['transaction_type'] == 'CREDITO'].groupby([pd.Grouper(key='transaction_date', freq='24h'), 'user_id'])['transaction_amount'].transform(np.sum)\n",
    "#DATOS_TRANSACCIONALES_1['conteo_trx'] =DATOS_TRANSACCIONALES_1.groupby([pd.Grouper(key='transaction_date', freq='24h'), 'user_id','transaction_type'])['transaction_amount'].transform('count')"
   ]
  },
  {
   "cell_type": "code",
   "execution_count": 166,
   "id": "62956e34",
   "metadata": {},
   "outputs": [],
   "source": [
    "## CONTEO POR CREDITO Y DEBITO\n",
    "DATOS_TRANSACCIONALES_1['cuenta_trx_debito'] = DATOS_TRANSACCIONALES_1[DATOS_TRANSACCIONALES_1['transaction_type'] == 'DEBITO'].groupby([pd.Grouper(key='transaction_date', freq='24h'), 'user_id'])['transaction_amount'].transform('count')\n",
    "DATOS_TRANSACCIONALES_1['cuenta_trx_credito'] = DATOS_TRANSACCIONALES_1[DATOS_TRANSACCIONALES_1['transaction_type'] == 'CREDITO'].groupby([pd.Grouper(key='transaction_date', freq='24h'), 'user_id'])['transaction_amount'].transform('count')"
   ]
  },
  {
   "cell_type": "code",
   "execution_count": 167,
   "id": "07edd7d4",
   "metadata": {},
   "outputs": [],
   "source": [
    "## CONTAR LAS CUENTAS DIFERENTES POR DEBITO Y CREDITO\n",
    "DATOS_TRANSACCIONALES_1['count_cuentas_debito'] = DATOS_TRANSACCIONALES_1[DATOS_TRANSACCIONALES_1['transaction_type'] == 'DEBITO'].groupby([pd.Grouper(key='transaction_date', freq='24h'), 'user_id','transaction_type'])['account_number'].transform('nunique')\n",
    "DATOS_TRANSACCIONALES_1['count_cuentas_credito'] = DATOS_TRANSACCIONALES_1[DATOS_TRANSACCIONALES_1['transaction_type'] == 'CREDITO'].groupby([pd.Grouper(key='transaction_date', freq='24h'), 'user_id','transaction_type'])['account_number'].transform('nunique')"
   ]
  },
  {
   "cell_type": "code",
   "execution_count": 168,
   "id": "00dedc4b",
   "metadata": {},
   "outputs": [],
   "source": [
    "DATOS_TRANSACCIONALES_1 = DATOS_TRANSACCIONALES_1.fillna(0)"
   ]
  },
  {
   "cell_type": "code",
   "execution_count": 144,
   "id": "6c05a73d",
   "metadata": {},
   "outputs": [
    {
     "data": {
      "text/html": [
       "<div>\n",
       "<style scoped>\n",
       "    .dataframe tbody tr th:only-of-type {\n",
       "        vertical-align: middle;\n",
       "    }\n",
       "\n",
       "    .dataframe tbody tr th {\n",
       "        vertical-align: top;\n",
       "    }\n",
       "\n",
       "    .dataframe thead th {\n",
       "        text-align: right;\n",
       "    }\n",
       "</style>\n",
       "<table border=\"1\" class=\"dataframe\">\n",
       "  <thead>\n",
       "    <tr style=\"text-align: right;\">\n",
       "      <th></th>\n",
       "      <th>merchant_id</th>\n",
       "      <th>_id</th>\n",
       "      <th>subsidiary</th>\n",
       "      <th>transaction_date</th>\n",
       "      <th>account_number</th>\n",
       "      <th>user_id</th>\n",
       "      <th>transaction_amount</th>\n",
       "      <th>transaction_type</th>\n",
       "      <th>suma_trx_debito</th>\n",
       "      <th>suma_trx_credito</th>\n",
       "      <th>cuenta_trx_debito</th>\n",
       "      <th>cuenta_trx_credito</th>\n",
       "      <th>count_cuentas_debito</th>\n",
       "      <th>count_cuentas_credito</th>\n",
       "      <th>DEBITO=CREDITO</th>\n",
       "      <th>suma_trx</th>\n",
       "      <th>count_trx</th>\n",
       "    </tr>\n",
       "  </thead>\n",
       "  <tbody>\n",
       "    <tr>\n",
       "      <th>0</th>\n",
       "      <td>075d178871d8d48502bf1f54887e52fe</td>\n",
       "      <td>aa8dacff663072244d0a8ab6bbe36b93</td>\n",
       "      <td>824b2af470cbe6a65b15650e03b740fc</td>\n",
       "      <td>2021-09-12 18:32:03</td>\n",
       "      <td>648e257c9d74909a1f61c54b93a9e1b3</td>\n",
       "      <td>ba42d192a145583ba8e7bf04875f837f</td>\n",
       "      <td>178.33365037</td>\n",
       "      <td>CREDITO</td>\n",
       "      <td>0</td>\n",
       "      <td>178.33365037</td>\n",
       "      <td>0.0</td>\n",
       "      <td>1.0</td>\n",
       "      <td>0.0</td>\n",
       "      <td>1.0</td>\n",
       "      <td>0</td>\n",
       "      <td>178.33365037</td>\n",
       "      <td>1</td>\n",
       "    </tr>\n",
       "    <tr>\n",
       "      <th>1</th>\n",
       "      <td>075d178871d8d48502bf1f54887e52fe</td>\n",
       "      <td>a53bb81bd0bba2ae2535bda7ea5a550c</td>\n",
       "      <td>2d8d34be7509a6b1262336d036fdb324</td>\n",
       "      <td>2021-09-12 18:31:58</td>\n",
       "      <td>c0b62f9046c83ea5543ea46a497a4d6e</td>\n",
       "      <td>5cfff960ea6d732c1ba3e63d24f3be52</td>\n",
       "      <td>35.66673007</td>\n",
       "      <td>CREDITO</td>\n",
       "      <td>0</td>\n",
       "      <td>35.66673007</td>\n",
       "      <td>0.0</td>\n",
       "      <td>1.0</td>\n",
       "      <td>0.0</td>\n",
       "      <td>1.0</td>\n",
       "      <td>0</td>\n",
       "      <td>35.66673007</td>\n",
       "      <td>1</td>\n",
       "    </tr>\n",
       "    <tr>\n",
       "      <th>2</th>\n",
       "      <td>075d178871d8d48502bf1f54887e52fe</td>\n",
       "      <td>79f893ea65c06fe2933f3847c88c272f</td>\n",
       "      <td>5eeb18254850b21af0a6bb2697913cd3</td>\n",
       "      <td>2021-09-12 18:31:56</td>\n",
       "      <td>872d10143fc0ac7d5de467806f6bef81</td>\n",
       "      <td>c97e63a92c82c7217b333635d75928ed</td>\n",
       "      <td>142.66692029</td>\n",
       "      <td>CREDITO</td>\n",
       "      <td>0</td>\n",
       "      <td>142.66692029</td>\n",
       "      <td>0.0</td>\n",
       "      <td>1.0</td>\n",
       "      <td>0.0</td>\n",
       "      <td>1.0</td>\n",
       "      <td>0</td>\n",
       "      <td>142.66692029</td>\n",
       "      <td>1</td>\n",
       "    </tr>\n",
       "    <tr>\n",
       "      <th>3</th>\n",
       "      <td>075d178871d8d48502bf1f54887e52fe</td>\n",
       "      <td>ce577223699dbdc119df2ab8a35457fe</td>\n",
       "      <td>5221a599856c0a0588ed9ffd150edd3b</td>\n",
       "      <td>2021-09-12 18:31:10</td>\n",
       "      <td>2e35cfe7860a480a93e1c83e99843579</td>\n",
       "      <td>fc09bdd00f283222d65eaff4d00a6594</td>\n",
       "      <td>8.32223701</td>\n",
       "      <td>CREDITO</td>\n",
       "      <td>0</td>\n",
       "      <td>8.32223701</td>\n",
       "      <td>0.0</td>\n",
       "      <td>1.0</td>\n",
       "      <td>0.0</td>\n",
       "      <td>1.0</td>\n",
       "      <td>0</td>\n",
       "      <td>8.32223701</td>\n",
       "      <td>1</td>\n",
       "    </tr>\n",
       "    <tr>\n",
       "      <th>4</th>\n",
       "      <td>075d178871d8d48502bf1f54887e52fe</td>\n",
       "      <td>0ce7ab2950e7a788a608f881aec0f8f0</td>\n",
       "      <td>971e55ef12d80ec070ea4f6750c8b892</td>\n",
       "      <td>2021-09-12 18:31:07</td>\n",
       "      <td>995bc89e4c4e00334f1f90c4a55f4729</td>\n",
       "      <td>213527e8ba94fcaf2f9378969f9f6abc</td>\n",
       "      <td>32.10005706</td>\n",
       "      <td>CREDITO</td>\n",
       "      <td>0</td>\n",
       "      <td>55.87787710</td>\n",
       "      <td>0.0</td>\n",
       "      <td>2.0</td>\n",
       "      <td>0.0</td>\n",
       "      <td>1.0</td>\n",
       "      <td>0</td>\n",
       "      <td>55.87787710</td>\n",
       "      <td>2</td>\n",
       "    </tr>\n",
       "  </tbody>\n",
       "</table>\n",
       "</div>"
      ],
      "text/plain": [
       "                        merchant_id                               _id  \\\n",
       "0  075d178871d8d48502bf1f54887e52fe  aa8dacff663072244d0a8ab6bbe36b93   \n",
       "1  075d178871d8d48502bf1f54887e52fe  a53bb81bd0bba2ae2535bda7ea5a550c   \n",
       "2  075d178871d8d48502bf1f54887e52fe  79f893ea65c06fe2933f3847c88c272f   \n",
       "3  075d178871d8d48502bf1f54887e52fe  ce577223699dbdc119df2ab8a35457fe   \n",
       "4  075d178871d8d48502bf1f54887e52fe  0ce7ab2950e7a788a608f881aec0f8f0   \n",
       "\n",
       "                         subsidiary    transaction_date  \\\n",
       "0  824b2af470cbe6a65b15650e03b740fc 2021-09-12 18:32:03   \n",
       "1  2d8d34be7509a6b1262336d036fdb324 2021-09-12 18:31:58   \n",
       "2  5eeb18254850b21af0a6bb2697913cd3 2021-09-12 18:31:56   \n",
       "3  5221a599856c0a0588ed9ffd150edd3b 2021-09-12 18:31:10   \n",
       "4  971e55ef12d80ec070ea4f6750c8b892 2021-09-12 18:31:07   \n",
       "\n",
       "                     account_number                           user_id  \\\n",
       "0  648e257c9d74909a1f61c54b93a9e1b3  ba42d192a145583ba8e7bf04875f837f   \n",
       "1  c0b62f9046c83ea5543ea46a497a4d6e  5cfff960ea6d732c1ba3e63d24f3be52   \n",
       "2  872d10143fc0ac7d5de467806f6bef81  c97e63a92c82c7217b333635d75928ed   \n",
       "3  2e35cfe7860a480a93e1c83e99843579  fc09bdd00f283222d65eaff4d00a6594   \n",
       "4  995bc89e4c4e00334f1f90c4a55f4729  213527e8ba94fcaf2f9378969f9f6abc   \n",
       "\n",
       "  transaction_amount transaction_type suma_trx_debito suma_trx_credito  \\\n",
       "0       178.33365037          CREDITO               0     178.33365037   \n",
       "1        35.66673007          CREDITO               0      35.66673007   \n",
       "2       142.66692029          CREDITO               0     142.66692029   \n",
       "3         8.32223701          CREDITO               0       8.32223701   \n",
       "4        32.10005706          CREDITO               0      55.87787710   \n",
       "\n",
       "   cuenta_trx_debito  cuenta_trx_credito  count_cuentas_debito  \\\n",
       "0                0.0                 1.0                   0.0   \n",
       "1                0.0                 1.0                   0.0   \n",
       "2                0.0                 1.0                   0.0   \n",
       "3                0.0                 1.0                   0.0   \n",
       "4                0.0                 2.0                   0.0   \n",
       "\n",
       "   count_cuentas_credito  DEBITO=CREDITO      suma_trx  count_trx  \n",
       "0                    1.0               0  178.33365037          1  \n",
       "1                    1.0               0   35.66673007          1  \n",
       "2                    1.0               0  142.66692029          1  \n",
       "3                    1.0               0    8.32223701          1  \n",
       "4                    1.0               0   55.87787710          2  "
      ]
     },
     "execution_count": 144,
     "metadata": {},
     "output_type": "execute_result"
    }
   ],
   "source": [
    "DATOS_TRANSACCIONALES_1.head()"
   ]
  },
  {
   "cell_type": "code",
   "execution_count": 171,
   "id": "bc17efdc",
   "metadata": {},
   "outputs": [],
   "source": [
    "DATOS_TRANSACCIONALES_1['Flag']  = np.where(((DATOS_TRANSACCIONALES_1['suma_trx'] - DATOS_TRANSACCIONALES_1['suma_trx_debito'] - DATOS_TRANSACCIONALES_1['suma_trx_credito']) == (DATOS_TRANSACCIONALES_1['suma_trx_debito'] + DATOS_TRANSACCIONALES_1['suma_trx_credito'])) & (DATOS_TRANSACCIONALES_1['count_trx'] > 2)  & ((DATOS_TRANSACCIONALES_1['count_trx'] -DATOS_TRANSACCIONALES_1['cuenta_trx_debito']-DATOS_TRANSACCIONALES_1['cuenta_trx_credito']) != (DATOS_TRANSACCIONALES_1['cuenta_trx_debito']+DATOS_TRANSACCIONALES_1['cuenta_trx_credito']) ) ,1, 0)"
   ]
  },
  {
   "cell_type": "code",
   "execution_count": 172,
   "id": "eb093381",
   "metadata": {},
   "outputs": [
    {
     "data": {
      "text/html": [
       "<div>\n",
       "<style scoped>\n",
       "    .dataframe tbody tr th:only-of-type {\n",
       "        vertical-align: middle;\n",
       "    }\n",
       "\n",
       "    .dataframe tbody tr th {\n",
       "        vertical-align: top;\n",
       "    }\n",
       "\n",
       "    .dataframe thead th {\n",
       "        text-align: right;\n",
       "    }\n",
       "</style>\n",
       "<table border=\"1\" class=\"dataframe\">\n",
       "  <thead>\n",
       "    <tr style=\"text-align: right;\">\n",
       "      <th></th>\n",
       "      <th>merchant_id</th>\n",
       "      <th>_id</th>\n",
       "      <th>subsidiary</th>\n",
       "      <th>transaction_date</th>\n",
       "      <th>account_number</th>\n",
       "      <th>user_id</th>\n",
       "      <th>transaction_amount</th>\n",
       "      <th>transaction_type</th>\n",
       "      <th>suma_trx</th>\n",
       "      <th>count_trx</th>\n",
       "      <th>suma_trx_debito</th>\n",
       "      <th>suma_trx_credito</th>\n",
       "      <th>cuenta_trx_debito</th>\n",
       "      <th>cuenta_trx_credito</th>\n",
       "      <th>count_cuentas_debito</th>\n",
       "      <th>count_cuentas_credito</th>\n",
       "      <th>Flag</th>\n",
       "    </tr>\n",
       "  </thead>\n",
       "  <tbody>\n",
       "    <tr>\n",
       "      <th>41511</th>\n",
       "      <td>075d178871d8d48502bf1f54887e52fe</td>\n",
       "      <td>a49dd48255968c02ccf5df1911361f6d</td>\n",
       "      <td>029fd27c10647965a5632dc299e822f6</td>\n",
       "      <td>2021-11-26 11:43:01</td>\n",
       "      <td>a950d46f101464e4aa19d50bd9e04999</td>\n",
       "      <td>e70dc6f1046ccc6e401727528e026156</td>\n",
       "      <td>178.33365037</td>\n",
       "      <td>CREDITO</td>\n",
       "      <td>1545.55830320</td>\n",
       "      <td>3</td>\n",
       "      <td>0</td>\n",
       "      <td>772.77915160</td>\n",
       "      <td>0.0</td>\n",
       "      <td>2.0</td>\n",
       "      <td>0.0</td>\n",
       "      <td>1.0</td>\n",
       "      <td>1</td>\n",
       "    </tr>\n",
       "    <tr>\n",
       "      <th>41685</th>\n",
       "      <td>075d178871d8d48502bf1f54887e52fe</td>\n",
       "      <td>7a8507d1c870c36daa418e6e4607ae58</td>\n",
       "      <td>029fd27c10647965a5632dc299e822f6</td>\n",
       "      <td>2021-11-26 11:42:21</td>\n",
       "      <td>a950d46f101464e4aa19d50bd9e04999</td>\n",
       "      <td>e70dc6f1046ccc6e401727528e026156</td>\n",
       "      <td>594.44550123</td>\n",
       "      <td>CREDITO</td>\n",
       "      <td>1545.55830320</td>\n",
       "      <td>3</td>\n",
       "      <td>0</td>\n",
       "      <td>772.77915160</td>\n",
       "      <td>0.0</td>\n",
       "      <td>2.0</td>\n",
       "      <td>0.0</td>\n",
       "      <td>1.0</td>\n",
       "      <td>1</td>\n",
       "    </tr>\n",
       "    <tr>\n",
       "      <th>61509</th>\n",
       "      <td>075d178871d8d48502bf1f54887e52fe</td>\n",
       "      <td>1b944efe40168964561de89f805365cb</td>\n",
       "      <td>3458b243beebecf55605ca649b6b2ea5</td>\n",
       "      <td>2021-02-08 15:44:02</td>\n",
       "      <td>bab8942f54f0c7548c3981f5f3613130</td>\n",
       "      <td>3c3dcfdb0f86d8a1f7c2bb510e8167f3</td>\n",
       "      <td>475.55640098</td>\n",
       "      <td>CREDITO</td>\n",
       "      <td>951.11280196</td>\n",
       "      <td>3</td>\n",
       "      <td>0</td>\n",
       "      <td>475.55640098</td>\n",
       "      <td>0.0</td>\n",
       "      <td>1.0</td>\n",
       "      <td>0.0</td>\n",
       "      <td>1.0</td>\n",
       "      <td>1</td>\n",
       "    </tr>\n",
       "    <tr>\n",
       "      <th>86921</th>\n",
       "      <td>075d178871d8d48502bf1f54887e52fe</td>\n",
       "      <td>fa20e226b5f5d1964031c3ef50e2edd3</td>\n",
       "      <td>ba400763dcda307d2ba5d6f7adf8e9e6</td>\n",
       "      <td>2021-01-06 10:30:25</td>\n",
       "      <td>25f4652865c3bf127ecfeba99ae2a8b8</td>\n",
       "      <td>507439cf8822e615b4f542fb5f532001</td>\n",
       "      <td>594.44550123</td>\n",
       "      <td>CREDITO</td>\n",
       "      <td>1426.66920294</td>\n",
       "      <td>6</td>\n",
       "      <td>0</td>\n",
       "      <td>713.33460147</td>\n",
       "      <td>0.0</td>\n",
       "      <td>2.0</td>\n",
       "      <td>0.0</td>\n",
       "      <td>1.0</td>\n",
       "      <td>1</td>\n",
       "    </tr>\n",
       "    <tr>\n",
       "      <th>86935</th>\n",
       "      <td>075d178871d8d48502bf1f54887e52fe</td>\n",
       "      <td>601ab2f547afc0ff3b952be55b889fa6</td>\n",
       "      <td>ba400763dcda307d2ba5d6f7adf8e9e6</td>\n",
       "      <td>2021-01-06 10:31:08</td>\n",
       "      <td>25f4652865c3bf127ecfeba99ae2a8b8</td>\n",
       "      <td>507439cf8822e615b4f542fb5f532001</td>\n",
       "      <td>118.88910024</td>\n",
       "      <td>CREDITO</td>\n",
       "      <td>1426.66920294</td>\n",
       "      <td>6</td>\n",
       "      <td>0</td>\n",
       "      <td>713.33460147</td>\n",
       "      <td>0.0</td>\n",
       "      <td>2.0</td>\n",
       "      <td>0.0</td>\n",
       "      <td>1.0</td>\n",
       "      <td>1</td>\n",
       "    </tr>\n",
       "    <tr>\n",
       "      <th>...</th>\n",
       "      <td>...</td>\n",
       "      <td>...</td>\n",
       "      <td>...</td>\n",
       "      <td>...</td>\n",
       "      <td>...</td>\n",
       "      <td>...</td>\n",
       "      <td>...</td>\n",
       "      <td>...</td>\n",
       "      <td>...</td>\n",
       "      <td>...</td>\n",
       "      <td>...</td>\n",
       "      <td>...</td>\n",
       "      <td>...</td>\n",
       "      <td>...</td>\n",
       "      <td>...</td>\n",
       "      <td>...</td>\n",
       "      <td>...</td>\n",
       "    </tr>\n",
       "    <tr>\n",
       "      <th>10741037</th>\n",
       "      <td>838a8fa992a4aa2fb5a0cf8b15b63755</td>\n",
       "      <td>a9dd260f9fe2a3bb213729a6f6be6d18</td>\n",
       "      <td>7b3098071d23be352bc6c85ba79e9228</td>\n",
       "      <td>2021-11-22 09:38:48</td>\n",
       "      <td>366626deedb2864f14b8f75daf7b1fe3</td>\n",
       "      <td>3de835b5703fd8a0918ed7487cad97c5</td>\n",
       "      <td>594.44550123</td>\n",
       "      <td>CREDITO</td>\n",
       "      <td>2258.89290468</td>\n",
       "      <td>3</td>\n",
       "      <td>0</td>\n",
       "      <td>1129.44645234</td>\n",
       "      <td>0.0</td>\n",
       "      <td>2.0</td>\n",
       "      <td>0.0</td>\n",
       "      <td>1.0</td>\n",
       "      <td>1</td>\n",
       "    </tr>\n",
       "    <tr>\n",
       "      <th>10741038</th>\n",
       "      <td>838a8fa992a4aa2fb5a0cf8b15b63755</td>\n",
       "      <td>9bac469c199d07e3f02db34a2dd1fe09</td>\n",
       "      <td>7b3098071d23be352bc6c85ba79e9228</td>\n",
       "      <td>2021-11-22 09:39:25</td>\n",
       "      <td>366626deedb2864f14b8f75daf7b1fe3</td>\n",
       "      <td>3de835b5703fd8a0918ed7487cad97c5</td>\n",
       "      <td>535.00095111</td>\n",
       "      <td>CREDITO</td>\n",
       "      <td>2258.89290468</td>\n",
       "      <td>3</td>\n",
       "      <td>0</td>\n",
       "      <td>1129.44645234</td>\n",
       "      <td>0.0</td>\n",
       "      <td>2.0</td>\n",
       "      <td>0.0</td>\n",
       "      <td>1.0</td>\n",
       "      <td>1</td>\n",
       "    </tr>\n",
       "    <tr>\n",
       "      <th>10747112</th>\n",
       "      <td>838a8fa992a4aa2fb5a0cf8b15b63755</td>\n",
       "      <td>f53ef0860da54d9a5e40c188ae33a327</td>\n",
       "      <td>7b3098071d23be352bc6c85ba79e9228</td>\n",
       "      <td>2021-11-13 12:49:21</td>\n",
       "      <td>793027427dc48fe490c4b719ab54879d</td>\n",
       "      <td>670f0b9a982f451d36c0c53897ffa633</td>\n",
       "      <td>594.44550123</td>\n",
       "      <td>CREDITO</td>\n",
       "      <td>2258.89290468</td>\n",
       "      <td>3</td>\n",
       "      <td>0</td>\n",
       "      <td>1129.44645234</td>\n",
       "      <td>0.0</td>\n",
       "      <td>2.0</td>\n",
       "      <td>0.0</td>\n",
       "      <td>1.0</td>\n",
       "      <td>1</td>\n",
       "    </tr>\n",
       "    <tr>\n",
       "      <th>10747113</th>\n",
       "      <td>838a8fa992a4aa2fb5a0cf8b15b63755</td>\n",
       "      <td>bb59065f62e013c815d1dab5bad3d432</td>\n",
       "      <td>7b3098071d23be352bc6c85ba79e9228</td>\n",
       "      <td>2021-11-13 12:49:52</td>\n",
       "      <td>793027427dc48fe490c4b719ab54879d</td>\n",
       "      <td>670f0b9a982f451d36c0c53897ffa633</td>\n",
       "      <td>535.00095111</td>\n",
       "      <td>CREDITO</td>\n",
       "      <td>2258.89290468</td>\n",
       "      <td>3</td>\n",
       "      <td>0</td>\n",
       "      <td>1129.44645234</td>\n",
       "      <td>0.0</td>\n",
       "      <td>2.0</td>\n",
       "      <td>0.0</td>\n",
       "      <td>1.0</td>\n",
       "      <td>1</td>\n",
       "    </tr>\n",
       "    <tr>\n",
       "      <th>10752159</th>\n",
       "      <td>838a8fa992a4aa2fb5a0cf8b15b63755</td>\n",
       "      <td>bbc60b1b8f57c04cc287cafb5a4b4ac5</td>\n",
       "      <td>f3a8feec3381dfa332935836875f7f4e</td>\n",
       "      <td>2021-11-08 11:55:38</td>\n",
       "      <td>6d74e42131b301ffd32d9419f780e8aa</td>\n",
       "      <td>66fd86aee0c3c5f5be589dc739297207</td>\n",
       "      <td>475.55640098</td>\n",
       "      <td>CREDITO</td>\n",
       "      <td>951.11280196</td>\n",
       "      <td>3</td>\n",
       "      <td>0</td>\n",
       "      <td>475.55640098</td>\n",
       "      <td>0.0</td>\n",
       "      <td>1.0</td>\n",
       "      <td>0.0</td>\n",
       "      <td>1.0</td>\n",
       "      <td>1</td>\n",
       "    </tr>\n",
       "  </tbody>\n",
       "</table>\n",
       "<p>3258 rows × 17 columns</p>\n",
       "</div>"
      ],
      "text/plain": [
       "                               merchant_id                               _id  \\\n",
       "41511     075d178871d8d48502bf1f54887e52fe  a49dd48255968c02ccf5df1911361f6d   \n",
       "41685     075d178871d8d48502bf1f54887e52fe  7a8507d1c870c36daa418e6e4607ae58   \n",
       "61509     075d178871d8d48502bf1f54887e52fe  1b944efe40168964561de89f805365cb   \n",
       "86921     075d178871d8d48502bf1f54887e52fe  fa20e226b5f5d1964031c3ef50e2edd3   \n",
       "86935     075d178871d8d48502bf1f54887e52fe  601ab2f547afc0ff3b952be55b889fa6   \n",
       "...                                    ...                               ...   \n",
       "10741037  838a8fa992a4aa2fb5a0cf8b15b63755  a9dd260f9fe2a3bb213729a6f6be6d18   \n",
       "10741038  838a8fa992a4aa2fb5a0cf8b15b63755  9bac469c199d07e3f02db34a2dd1fe09   \n",
       "10747112  838a8fa992a4aa2fb5a0cf8b15b63755  f53ef0860da54d9a5e40c188ae33a327   \n",
       "10747113  838a8fa992a4aa2fb5a0cf8b15b63755  bb59065f62e013c815d1dab5bad3d432   \n",
       "10752159  838a8fa992a4aa2fb5a0cf8b15b63755  bbc60b1b8f57c04cc287cafb5a4b4ac5   \n",
       "\n",
       "                                subsidiary    transaction_date  \\\n",
       "41511     029fd27c10647965a5632dc299e822f6 2021-11-26 11:43:01   \n",
       "41685     029fd27c10647965a5632dc299e822f6 2021-11-26 11:42:21   \n",
       "61509     3458b243beebecf55605ca649b6b2ea5 2021-02-08 15:44:02   \n",
       "86921     ba400763dcda307d2ba5d6f7adf8e9e6 2021-01-06 10:30:25   \n",
       "86935     ba400763dcda307d2ba5d6f7adf8e9e6 2021-01-06 10:31:08   \n",
       "...                                    ...                 ...   \n",
       "10741037  7b3098071d23be352bc6c85ba79e9228 2021-11-22 09:38:48   \n",
       "10741038  7b3098071d23be352bc6c85ba79e9228 2021-11-22 09:39:25   \n",
       "10747112  7b3098071d23be352bc6c85ba79e9228 2021-11-13 12:49:21   \n",
       "10747113  7b3098071d23be352bc6c85ba79e9228 2021-11-13 12:49:52   \n",
       "10752159  f3a8feec3381dfa332935836875f7f4e 2021-11-08 11:55:38   \n",
       "\n",
       "                            account_number                           user_id  \\\n",
       "41511     a950d46f101464e4aa19d50bd9e04999  e70dc6f1046ccc6e401727528e026156   \n",
       "41685     a950d46f101464e4aa19d50bd9e04999  e70dc6f1046ccc6e401727528e026156   \n",
       "61509     bab8942f54f0c7548c3981f5f3613130  3c3dcfdb0f86d8a1f7c2bb510e8167f3   \n",
       "86921     25f4652865c3bf127ecfeba99ae2a8b8  507439cf8822e615b4f542fb5f532001   \n",
       "86935     25f4652865c3bf127ecfeba99ae2a8b8  507439cf8822e615b4f542fb5f532001   \n",
       "...                                    ...                               ...   \n",
       "10741037  366626deedb2864f14b8f75daf7b1fe3  3de835b5703fd8a0918ed7487cad97c5   \n",
       "10741038  366626deedb2864f14b8f75daf7b1fe3  3de835b5703fd8a0918ed7487cad97c5   \n",
       "10747112  793027427dc48fe490c4b719ab54879d  670f0b9a982f451d36c0c53897ffa633   \n",
       "10747113  793027427dc48fe490c4b719ab54879d  670f0b9a982f451d36c0c53897ffa633   \n",
       "10752159  6d74e42131b301ffd32d9419f780e8aa  66fd86aee0c3c5f5be589dc739297207   \n",
       "\n",
       "         transaction_amount transaction_type       suma_trx  count_trx  \\\n",
       "41511          178.33365037          CREDITO  1545.55830320          3   \n",
       "41685          594.44550123          CREDITO  1545.55830320          3   \n",
       "61509          475.55640098          CREDITO   951.11280196          3   \n",
       "86921          594.44550123          CREDITO  1426.66920294          6   \n",
       "86935          118.88910024          CREDITO  1426.66920294          6   \n",
       "...                     ...              ...            ...        ...   \n",
       "10741037       594.44550123          CREDITO  2258.89290468          3   \n",
       "10741038       535.00095111          CREDITO  2258.89290468          3   \n",
       "10747112       594.44550123          CREDITO  2258.89290468          3   \n",
       "10747113       535.00095111          CREDITO  2258.89290468          3   \n",
       "10752159       475.55640098          CREDITO   951.11280196          3   \n",
       "\n",
       "         suma_trx_debito suma_trx_credito  cuenta_trx_debito  \\\n",
       "41511                  0     772.77915160                0.0   \n",
       "41685                  0     772.77915160                0.0   \n",
       "61509                  0     475.55640098                0.0   \n",
       "86921                  0     713.33460147                0.0   \n",
       "86935                  0     713.33460147                0.0   \n",
       "...                  ...              ...                ...   \n",
       "10741037               0    1129.44645234                0.0   \n",
       "10741038               0    1129.44645234                0.0   \n",
       "10747112               0    1129.44645234                0.0   \n",
       "10747113               0    1129.44645234                0.0   \n",
       "10752159               0     475.55640098                0.0   \n",
       "\n",
       "          cuenta_trx_credito  count_cuentas_debito  count_cuentas_credito  \\\n",
       "41511                    2.0                   0.0                    1.0   \n",
       "41685                    2.0                   0.0                    1.0   \n",
       "61509                    1.0                   0.0                    1.0   \n",
       "86921                    2.0                   0.0                    1.0   \n",
       "86935                    2.0                   0.0                    1.0   \n",
       "...                      ...                   ...                    ...   \n",
       "10741037                 2.0                   0.0                    1.0   \n",
       "10741038                 2.0                   0.0                    1.0   \n",
       "10747112                 2.0                   0.0                    1.0   \n",
       "10747113                 2.0                   0.0                    1.0   \n",
       "10752159                 1.0                   0.0                    1.0   \n",
       "\n",
       "          Flag  \n",
       "41511        1  \n",
       "41685        1  \n",
       "61509        1  \n",
       "86921        1  \n",
       "86935        1  \n",
       "...        ...  \n",
       "10741037     1  \n",
       "10741038     1  \n",
       "10747112     1  \n",
       "10747113     1  \n",
       "10752159     1  \n",
       "\n",
       "[3258 rows x 17 columns]"
      ]
     },
     "execution_count": 172,
     "metadata": {},
     "output_type": "execute_result"
    }
   ],
   "source": [
    "DATOS_TRANSACCIONALES_1[DATOS_TRANSACCIONALES_1['Flag'] == 1]"
   ]
  },
  {
   "cell_type": "markdown",
   "id": "33495453",
   "metadata": {},
   "source": [
    "Ajustar modelo"
   ]
  },
  {
   "cell_type": "code",
   "execution_count": 191,
   "id": "98ba8621",
   "metadata": {},
   "outputs": [],
   "source": [
    "BASE_MODELO = DATOS_TRANSACCIONALES_1[['_id','transaction_amount','suma_trx', 'count_trx','suma_trx_debito','suma_trx_credito','cuenta_trx_debito','cuenta_trx_credito','count_cuentas_debito','count_cuentas_credito']]"
   ]
  },
  {
   "cell_type": "code",
   "execution_count": 192,
   "id": "5b59793a",
   "metadata": {},
   "outputs": [],
   "source": [
    "BASE_MODELO = BASE_MODELO.set_index('_id')"
   ]
  },
  {
   "cell_type": "code",
   "execution_count": 188,
   "id": "1e500938",
   "metadata": {},
   "outputs": [],
   "source": [
    "DATOS_TRANSACCIONALES_1['Flag'] = DATOS_TRANSACCIONALES_1['Flag'].astype(str)"
   ]
  },
  {
   "cell_type": "code",
   "execution_count": 193,
   "id": "7635848e",
   "metadata": {},
   "outputs": [],
   "source": [
    "from sklearn.model_selection import train_test_split\n",
    "train_X, test_X, train_Y, test_Y = train_test_split(BASE_MODELO, DATOS_TRANSACCIONALES_1['Flag'], test_size = 0.25, random_state = 42,  stratify=  DATOS_TRANSACCIONALES_1['Flag'])"
   ]
  },
  {
   "cell_type": "code",
   "execution_count": 194,
   "id": "0bd22602",
   "metadata": {},
   "outputs": [
    {
     "data": {
      "text/html": [
       "<style>#sk-container-id-1 {color: black;}#sk-container-id-1 pre{padding: 0;}#sk-container-id-1 div.sk-toggleable {background-color: white;}#sk-container-id-1 label.sk-toggleable__label {cursor: pointer;display: block;width: 100%;margin-bottom: 0;padding: 0.3em;box-sizing: border-box;text-align: center;}#sk-container-id-1 label.sk-toggleable__label-arrow:before {content: \"▸\";float: left;margin-right: 0.25em;color: #696969;}#sk-container-id-1 label.sk-toggleable__label-arrow:hover:before {color: black;}#sk-container-id-1 div.sk-estimator:hover label.sk-toggleable__label-arrow:before {color: black;}#sk-container-id-1 div.sk-toggleable__content {max-height: 0;max-width: 0;overflow: hidden;text-align: left;background-color: #f0f8ff;}#sk-container-id-1 div.sk-toggleable__content pre {margin: 0.2em;color: black;border-radius: 0.25em;background-color: #f0f8ff;}#sk-container-id-1 input.sk-toggleable__control:checked~div.sk-toggleable__content {max-height: 200px;max-width: 100%;overflow: auto;}#sk-container-id-1 input.sk-toggleable__control:checked~label.sk-toggleable__label-arrow:before {content: \"▾\";}#sk-container-id-1 div.sk-estimator input.sk-toggleable__control:checked~label.sk-toggleable__label {background-color: #d4ebff;}#sk-container-id-1 div.sk-label input.sk-toggleable__control:checked~label.sk-toggleable__label {background-color: #d4ebff;}#sk-container-id-1 input.sk-hidden--visually {border: 0;clip: rect(1px 1px 1px 1px);clip: rect(1px, 1px, 1px, 1px);height: 1px;margin: -1px;overflow: hidden;padding: 0;position: absolute;width: 1px;}#sk-container-id-1 div.sk-estimator {font-family: monospace;background-color: #f0f8ff;border: 1px dotted black;border-radius: 0.25em;box-sizing: border-box;margin-bottom: 0.5em;}#sk-container-id-1 div.sk-estimator:hover {background-color: #d4ebff;}#sk-container-id-1 div.sk-parallel-item::after {content: \"\";width: 100%;border-bottom: 1px solid gray;flex-grow: 1;}#sk-container-id-1 div.sk-label:hover label.sk-toggleable__label {background-color: #d4ebff;}#sk-container-id-1 div.sk-serial::before {content: \"\";position: absolute;border-left: 1px solid gray;box-sizing: border-box;top: 0;bottom: 0;left: 50%;z-index: 0;}#sk-container-id-1 div.sk-serial {display: flex;flex-direction: column;align-items: center;background-color: white;padding-right: 0.2em;padding-left: 0.2em;position: relative;}#sk-container-id-1 div.sk-item {position: relative;z-index: 1;}#sk-container-id-1 div.sk-parallel {display: flex;align-items: stretch;justify-content: center;background-color: white;position: relative;}#sk-container-id-1 div.sk-item::before, #sk-container-id-1 div.sk-parallel-item::before {content: \"\";position: absolute;border-left: 1px solid gray;box-sizing: border-box;top: 0;bottom: 0;left: 50%;z-index: -1;}#sk-container-id-1 div.sk-parallel-item {display: flex;flex-direction: column;z-index: 1;position: relative;background-color: white;}#sk-container-id-1 div.sk-parallel-item:first-child::after {align-self: flex-end;width: 50%;}#sk-container-id-1 div.sk-parallel-item:last-child::after {align-self: flex-start;width: 50%;}#sk-container-id-1 div.sk-parallel-item:only-child::after {width: 0;}#sk-container-id-1 div.sk-dashed-wrapped {border: 1px dashed gray;margin: 0 0.4em 0.5em 0.4em;box-sizing: border-box;padding-bottom: 0.4em;background-color: white;}#sk-container-id-1 div.sk-label label {font-family: monospace;font-weight: bold;display: inline-block;line-height: 1.2em;}#sk-container-id-1 div.sk-label-container {text-align: center;}#sk-container-id-1 div.sk-container {/* jupyter's `normalize.less` sets `[hidden] { display: none; }` but bootstrap.min.css set `[hidden] { display: none !important; }` so we also need the `!important` here to be able to override the default hidden behavior on the sphinx rendered scikit-learn.org. See: https://github.com/scikit-learn/scikit-learn/issues/21755 */display: inline-block !important;position: relative;}#sk-container-id-1 div.sk-text-repr-fallback {display: none;}</style><div id=\"sk-container-id-1\" class=\"sk-top-container\"><div class=\"sk-text-repr-fallback\"><pre>RandomForestClassifier()</pre><b>In a Jupyter environment, please rerun this cell to show the HTML representation or trust the notebook. <br />On GitHub, the HTML representation is unable to render, please try loading this page with nbviewer.org.</b></div><div class=\"sk-container\" hidden><div class=\"sk-item\"><div class=\"sk-estimator sk-toggleable\"><input class=\"sk-toggleable__control sk-hidden--visually\" id=\"sk-estimator-id-1\" type=\"checkbox\" checked><label for=\"sk-estimator-id-1\" class=\"sk-toggleable__label sk-toggleable__label-arrow\">RandomForestClassifier</label><div class=\"sk-toggleable__content\"><pre>RandomForestClassifier()</pre></div></div></div></div></div>"
      ],
      "text/plain": [
       "RandomForestClassifier()"
      ]
     },
     "execution_count": 194,
     "metadata": {},
     "output_type": "execute_result"
    }
   ],
   "source": [
    "from sklearn.ensemble import RandomForestClassifier\n",
    "rf = RandomForestClassifier()\n",
    "rf.fit(train_X, train_Y)"
   ]
  },
  {
   "cell_type": "code",
   "execution_count": 196,
   "id": "9ce39698",
   "metadata": {},
   "outputs": [],
   "source": [
    "predictions = rf.predict(test_X)"
   ]
  },
  {
   "cell_type": "code",
   "execution_count": 200,
   "id": "c2f95f2e",
   "metadata": {},
   "outputs": [
    {
     "name": "stdout",
     "output_type": "stream",
     "text": [
      "Matriz de confusión\n",
      "-------------------\n",
      "[[2688773      17]\n",
      " [     52     763]]\n",
      "\n",
      "El accuracy de test es: 99.99743456752942 %\n"
     ]
    }
   ],
   "source": [
    "from sklearn.metrics import confusion_matrix\n",
    "from sklearn.metrics import accuracy_score\n",
    "mat_confusion = confusion_matrix(\n",
    "                    y_true    = test_Y,\n",
    "                    y_pred    = predictions\n",
    "                )\n",
    "\n",
    "accuracy = accuracy_score(\n",
    "            y_true    = test_Y,\n",
    "            y_pred    = predictions,\n",
    "            normalize = True\n",
    "           )\n",
    "\n",
    "print(\"Matriz de confusión\")\n",
    "print(\"-------------------\")\n",
    "print(mat_confusion)\n",
    "print(\"\")\n",
    "print(f\"El accuracy de test es: {100 * accuracy} %\")"
   ]
  },
  {
   "cell_type": "markdown",
   "id": "413baff5",
   "metadata": {},
   "source": [
    "REGRESIÓN LOGISTICA"
   ]
  },
  {
   "cell_type": "code",
   "execution_count": 201,
   "id": "49134f3f",
   "metadata": {},
   "outputs": [],
   "source": [
    "from sklearn.linear_model import LogisticRegression\n",
    "from sklearn.model_selection import train_test_split\n",
    "from sklearn.metrics import accuracy_score"
   ]
  },
  {
   "cell_type": "code",
   "execution_count": 202,
   "id": "d5222a44",
   "metadata": {},
   "outputs": [
    {
     "name": "stderr",
     "output_type": "stream",
     "text": [
      "C:\\Users\\ytati\\anaconda3\\Lib\\site-packages\\sklearn\\linear_model\\_logistic.py:1182: FutureWarning: `penalty='none'`has been deprecated in 1.2 and will be removed in 1.4. To keep the past behaviour, set `penalty=None`.\n",
      "  warnings.warn(\n",
      "C:\\Users\\ytati\\anaconda3\\Lib\\site-packages\\sklearn\\linear_model\\_logistic.py:460: ConvergenceWarning: lbfgs failed to converge (status=1):\n",
      "STOP: TOTAL NO. of ITERATIONS REACHED LIMIT.\n",
      "\n",
      "Increase the number of iterations (max_iter) or scale the data as shown in:\n",
      "    https://scikit-learn.org/stable/modules/preprocessing.html\n",
      "Please also refer to the documentation for alternative solver options:\n",
      "    https://scikit-learn.org/stable/modules/linear_model.html#logistic-regression\n",
      "  n_iter_i = _check_optimize_result(\n"
     ]
    },
    {
     "data": {
      "text/html": [
       "<style>#sk-container-id-2 {color: black;}#sk-container-id-2 pre{padding: 0;}#sk-container-id-2 div.sk-toggleable {background-color: white;}#sk-container-id-2 label.sk-toggleable__label {cursor: pointer;display: block;width: 100%;margin-bottom: 0;padding: 0.3em;box-sizing: border-box;text-align: center;}#sk-container-id-2 label.sk-toggleable__label-arrow:before {content: \"▸\";float: left;margin-right: 0.25em;color: #696969;}#sk-container-id-2 label.sk-toggleable__label-arrow:hover:before {color: black;}#sk-container-id-2 div.sk-estimator:hover label.sk-toggleable__label-arrow:before {color: black;}#sk-container-id-2 div.sk-toggleable__content {max-height: 0;max-width: 0;overflow: hidden;text-align: left;background-color: #f0f8ff;}#sk-container-id-2 div.sk-toggleable__content pre {margin: 0.2em;color: black;border-radius: 0.25em;background-color: #f0f8ff;}#sk-container-id-2 input.sk-toggleable__control:checked~div.sk-toggleable__content {max-height: 200px;max-width: 100%;overflow: auto;}#sk-container-id-2 input.sk-toggleable__control:checked~label.sk-toggleable__label-arrow:before {content: \"▾\";}#sk-container-id-2 div.sk-estimator input.sk-toggleable__control:checked~label.sk-toggleable__label {background-color: #d4ebff;}#sk-container-id-2 div.sk-label input.sk-toggleable__control:checked~label.sk-toggleable__label {background-color: #d4ebff;}#sk-container-id-2 input.sk-hidden--visually {border: 0;clip: rect(1px 1px 1px 1px);clip: rect(1px, 1px, 1px, 1px);height: 1px;margin: -1px;overflow: hidden;padding: 0;position: absolute;width: 1px;}#sk-container-id-2 div.sk-estimator {font-family: monospace;background-color: #f0f8ff;border: 1px dotted black;border-radius: 0.25em;box-sizing: border-box;margin-bottom: 0.5em;}#sk-container-id-2 div.sk-estimator:hover {background-color: #d4ebff;}#sk-container-id-2 div.sk-parallel-item::after {content: \"\";width: 100%;border-bottom: 1px solid gray;flex-grow: 1;}#sk-container-id-2 div.sk-label:hover label.sk-toggleable__label {background-color: #d4ebff;}#sk-container-id-2 div.sk-serial::before {content: \"\";position: absolute;border-left: 1px solid gray;box-sizing: border-box;top: 0;bottom: 0;left: 50%;z-index: 0;}#sk-container-id-2 div.sk-serial {display: flex;flex-direction: column;align-items: center;background-color: white;padding-right: 0.2em;padding-left: 0.2em;position: relative;}#sk-container-id-2 div.sk-item {position: relative;z-index: 1;}#sk-container-id-2 div.sk-parallel {display: flex;align-items: stretch;justify-content: center;background-color: white;position: relative;}#sk-container-id-2 div.sk-item::before, #sk-container-id-2 div.sk-parallel-item::before {content: \"\";position: absolute;border-left: 1px solid gray;box-sizing: border-box;top: 0;bottom: 0;left: 50%;z-index: -1;}#sk-container-id-2 div.sk-parallel-item {display: flex;flex-direction: column;z-index: 1;position: relative;background-color: white;}#sk-container-id-2 div.sk-parallel-item:first-child::after {align-self: flex-end;width: 50%;}#sk-container-id-2 div.sk-parallel-item:last-child::after {align-self: flex-start;width: 50%;}#sk-container-id-2 div.sk-parallel-item:only-child::after {width: 0;}#sk-container-id-2 div.sk-dashed-wrapped {border: 1px dashed gray;margin: 0 0.4em 0.5em 0.4em;box-sizing: border-box;padding-bottom: 0.4em;background-color: white;}#sk-container-id-2 div.sk-label label {font-family: monospace;font-weight: bold;display: inline-block;line-height: 1.2em;}#sk-container-id-2 div.sk-label-container {text-align: center;}#sk-container-id-2 div.sk-container {/* jupyter's `normalize.less` sets `[hidden] { display: none; }` but bootstrap.min.css set `[hidden] { display: none !important; }` so we also need the `!important` here to be able to override the default hidden behavior on the sphinx rendered scikit-learn.org. See: https://github.com/scikit-learn/scikit-learn/issues/21755 */display: inline-block !important;position: relative;}#sk-container-id-2 div.sk-text-repr-fallback {display: none;}</style><div id=\"sk-container-id-2\" class=\"sk-top-container\"><div class=\"sk-text-repr-fallback\"><pre>LogisticRegression(penalty=&#x27;none&#x27;)</pre><b>In a Jupyter environment, please rerun this cell to show the HTML representation or trust the notebook. <br />On GitHub, the HTML representation is unable to render, please try loading this page with nbviewer.org.</b></div><div class=\"sk-container\" hidden><div class=\"sk-item\"><div class=\"sk-estimator sk-toggleable\"><input class=\"sk-toggleable__control sk-hidden--visually\" id=\"sk-estimator-id-2\" type=\"checkbox\" checked><label for=\"sk-estimator-id-2\" class=\"sk-toggleable__label sk-toggleable__label-arrow\">LogisticRegression</label><div class=\"sk-toggleable__content\"><pre>LogisticRegression(penalty=&#x27;none&#x27;)</pre></div></div></div></div></div>"
      ],
      "text/plain": [
       "LogisticRegression(penalty='none')"
      ]
     },
     "execution_count": 202,
     "metadata": {},
     "output_type": "execute_result"
    }
   ],
   "source": [
    "modelo = LogisticRegression(penalty='none')\n",
    "modelo.fit(X = train_X, y = train_Y)"
   ]
  },
  {
   "cell_type": "code",
   "execution_count": 203,
   "id": "0baa6f7a",
   "metadata": {},
   "outputs": [],
   "source": [
    "predicciones = modelo.predict(X = test_X)"
   ]
  },
  {
   "cell_type": "code",
   "execution_count": 204,
   "id": "edc3ae90",
   "metadata": {},
   "outputs": [
    {
     "data": {
      "text/plain": [
       "array(['0', '0', '0', ..., '0', '0', '0'], dtype=object)"
      ]
     },
     "execution_count": 204,
     "metadata": {},
     "output_type": "execute_result"
    }
   ],
   "source": [
    "predicciones"
   ]
  },
  {
   "cell_type": "code",
   "execution_count": 206,
   "id": "0090a531",
   "metadata": {},
   "outputs": [
    {
     "name": "stdout",
     "output_type": "stream",
     "text": [
      "\n",
      "El accuracy de test es: 99.96958661216053%\n"
     ]
    }
   ],
   "source": [
    "accuracy = accuracy_score(\n",
    "            y_true    = test_Y,\n",
    "            y_pred    = predicciones,\n",
    "            normalize = True\n",
    "           )\n",
    "print(\"\")\n",
    "print(f\"El accuracy de test es: {100*accuracy}%\")"
   ]
  },
  {
   "cell_type": "code",
   "execution_count": null,
   "id": "9b3c70ea",
   "metadata": {},
   "outputs": [],
   "source": []
  },
  {
   "cell_type": "markdown",
   "id": "b33b5dc0",
   "metadata": {},
   "source": [
    "# ORGANIZADO"
   ]
  },
  {
   "cell_type": "code",
   "execution_count": 139,
   "id": "6eba4ca5",
   "metadata": {},
   "outputs": [],
   "source": [
    "CREDITO_1=DATOS_TRANSACCIONALES_1[DATOS_TRANSACCIONALES_1['transaction_type'] == 'CREDITO']\n",
    "# DEBITO_1=DATOS_TRANSACCIONALES_1[DATOS_TRANSACCIONALES_1['transaction_type'] == 'DEBITO']"
   ]
  },
  {
   "cell_type": "code",
   "execution_count": 140,
   "id": "aedda50d",
   "metadata": {},
   "outputs": [
    {
     "name": "stderr",
     "output_type": "stream",
     "text": [
      "C:\\Users\\ytati\\AppData\\Local\\Temp\\ipykernel_13876\\2331624708.py:1: SettingWithCopyWarning: \n",
      "A value is trying to be set on a copy of a slice from a DataFrame.\n",
      "Try using .loc[row_indexer,col_indexer] = value instead\n",
      "\n",
      "See the caveats in the documentation: https://pandas.pydata.org/pandas-docs/stable/user_guide/indexing.html#returning-a-view-versus-a-copy\n",
      "  CREDITO_1[\"MAX_TIME\"]=CREDITO_1.transaction_date+datetime.timedelta(days=1)\n"
     ]
    }
   ],
   "source": [
    "CREDITO_1[\"MAX_TIME\"]=CREDITO_1.transaction_date+datetime.timedelta(days=1)\n",
    "# CREDITO_1[\"MIN_TIME\"]=CREDITO_1.transaction_date+datetime.timedelta(days=-1)\n",
    "# CREDITO_1=CREDITO_1.rename(columns={\"_id\": \"_id_CREDIT\"})\n",
    "CREDITO_1=CREDITO_1[['_id','user_id','account_number','transaction_date','MAX_TIME']]"
   ]
  },
  {
   "cell_type": "code",
   "execution_count": 141,
   "id": "22b3bdf5",
   "metadata": {},
   "outputs": [],
   "source": [
    "FULL_DATA=DATOS_TRANSACCIONALES_1.merge(CREDITO_1,on=('user_id','account_number'),suffixes=(\"\",\"_CREDIT\"),how='left')\n",
    "# FULL_DATA[\"INSIDE_BOUNDARIES\"]=FULL_DATA.groupby(['_id']).apply(lambda x: 1 if (x['transaction_date'].max<x['MAX_TIME'].max) and (x['transaction_date'].max>x['MIN_TIME'].max )else 0)"
   ]
  },
  {
   "cell_type": "code",
   "execution_count": 142,
   "id": "b4730804",
   "metadata": {},
   "outputs": [],
   "source": [
    "# FULL_DATA_END.groupby(['user_id','account_number'])['merchant_id'].nunique().reset_index().sort_values(by='merchant_id',ascending=False)\n",
    "FULL_DATA_END=FULL_DATA[(FULL_DATA['transaction_date']<=FULL_DATA['MAX_TIME']) & (FULL_DATA['transaction_date']>=FULL_DATA['transaction_date_CREDIT'])]"
   ]
  },
  {
   "cell_type": "code",
   "execution_count": 143,
   "id": "93e0ef3e",
   "metadata": {},
   "outputs": [],
   "source": [
    "# DATOS_TRAIN_1=FULL_DATA_END.iloc[1:100000,:]\n",
    "DATOS_TRANSACCIONALES_1_AFTER_GROUPED=FULL_DATA_END.groupby(['user_id','account_number','transaction_date_CREDIT'])\n",
    "DATOS_TRANSACCIONALES_1_AFTER_GROUPED_END=DATOS_TRANSACCIONALES_1_AFTER_GROUPED['_id'].count()\n",
    "DATOS_TRANSACCIONALES_1_AFTER_GROUPED_END=pd.DataFrame(DATOS_TRANSACCIONALES_1_AFTER_GROUPED_END).reset_index()"
   ]
  },
  {
   "cell_type": "code",
   "execution_count": 144,
   "id": "8d92225a",
   "metadata": {},
   "outputs": [],
   "source": [
    "def count_credit(x):return list(x).count(\"CREDITO\")\n",
    "def count_debit(x):return list(x).count(\"DEBITO\")"
   ]
  },
  {
   "cell_type": "code",
   "execution_count": 145,
   "id": "e127cf4e",
   "metadata": {},
   "outputs": [],
   "source": [
    "# DATOS_TRANSACCIONALES_1_AFTER_GROUPED_END['MAX_TIME']=DATOS_TRANSACCIONALES_1_AFTER_GROUPED['MAX_TIME'].transform(lambda x: np.nanmax(x))\n",
    "# DATOS_TRANSACCIONALES_1_AFTER_GROUPED_END['MIN_TIME']=DATOS_TRANSACCIONALES_1_AFTER_GROUPED['MIN_TIME'].transform(lambda x: np.nanmin(x))\n",
    "DATOS_TRANSACCIONALES_1_AFTER_GROUPED_END['CANTIDAD_CREDITO']=DATOS_TRANSACCIONALES_1_AFTER_GROUPED['transaction_type'].agg([(\"temp_fun\",count_credit)]).reset_index().temp_fun\n",
    "DATOS_TRANSACCIONALES_1_AFTER_GROUPED_END['CANTIDAD_DEBITO']=DATOS_TRANSACCIONALES_1_AFTER_GROUPED['transaction_type'].agg([(\"temp_fun\",count_debit)]).reset_index().temp_fun\n",
    "DATOS_TRANSACCIONALES_1_AFTER_GROUPED_END['MONTO_CREDITO']=DATOS_TRANSACCIONALES_1_AFTER_GROUPED.apply(lambda x:np.sum(list(compress(x['transaction_amount'],[(lambda y: True if y==\"CREDITO\" else False)(X) for X in x['transaction_type']])))).reset_index().iloc[:,3]\n",
    "DATOS_TRANSACCIONALES_1_AFTER_GROUPED_END['MONTO_DEBITO']=DATOS_TRANSACCIONALES_1_AFTER_GROUPED.apply(lambda x:np.sum(list(compress(x['transaction_amount'],[(lambda y: True if y==\"DEBITO\" else False)(X) for X in x['transaction_type']])))).reset_index().iloc[:,3]\n",
    "# DATOS_TRANSACCIONALES_1_AFTER_GROUPED_END['MONTO_CREDITO']=DATOS_TRANSACCIONALES_1_AFTER_GROUPED['transaction_type','transaction_amount'].transform(lambda x,y:list(compress(x,[(lambda z: True if z==\"CREDITO\" else False)(X) for X in y])).sum)\n",
    "# DATOS_TRANSACCIONALES_1_AFTER_GROUPED_END['MONTO_CREDITO']=DATOS_TRANSACCIONALES_1_AFTER_GROUPED.agg({})"
   ]
  },
  {
   "cell_type": "code",
   "execution_count": 147,
   "id": "5b61b1c6",
   "metadata": {},
   "outputs": [],
   "source": [
    "CASOS_END=DATOS_TRANSACCIONALES_1_AFTER_GROUPED_END[(DATOS_TRANSACCIONALES_1_AFTER_GROUPED_END['MONTO_CREDITO']==DATOS_TRANSACCIONALES_1_AFTER_GROUPED_END['MONTO_DEBITO'])& (DATOS_TRANSACCIONALES_1_AFTER_GROUPED_END['CANTIDAD_CREDITO']<2) & (DATOS_TRANSACCIONALES_1_AFTER_GROUPED_END['CANTIDAD_DEBITO']>1) ].sort_values(by='CANTIDAD_DEBITO',ascending=False)"
   ]
  },
  {
   "cell_type": "code",
   "execution_count": 162,
   "id": "2a8ee9e2",
   "metadata": {},
   "outputs": [],
   "source": [
    "FULL_CASOS_END=CASOS_END.loc[:,['user_id','account_number','transaction_date_CREDIT','CANTIDAD_CREDITO','CANTIDAD_DEBITO','MONTO_CREDITO','MONTO_DEBITO']].merge(FULL_DATA_END,on=('user_id','account_number','transaction_date_CREDIT'),how='inner')"
   ]
  },
  {
   "cell_type": "code",
   "execution_count": 171,
   "id": "736c1e95",
   "metadata": {},
   "outputs": [
    {
     "data": {
      "text/html": [
       "<div>\n",
       "<style scoped>\n",
       "    .dataframe tbody tr th:only-of-type {\n",
       "        vertical-align: middle;\n",
       "    }\n",
       "\n",
       "    .dataframe tbody tr th {\n",
       "        vertical-align: top;\n",
       "    }\n",
       "\n",
       "    .dataframe thead th {\n",
       "        text-align: right;\n",
       "    }\n",
       "</style>\n",
       "<table border=\"1\" class=\"dataframe\">\n",
       "  <thead>\n",
       "    <tr style=\"text-align: right;\">\n",
       "      <th></th>\n",
       "      <th>user_id</th>\n",
       "      <th>account_number</th>\n",
       "      <th>transaction_date_CREDIT</th>\n",
       "      <th>CANTIDAD_CREDITO</th>\n",
       "      <th>CANTIDAD_DEBITO</th>\n",
       "      <th>MONTO_CREDITO</th>\n",
       "      <th>MONTO_DEBITO</th>\n",
       "      <th>merchant_id</th>\n",
       "      <th>_id</th>\n",
       "      <th>subsidiary</th>\n",
       "      <th>transaction_date</th>\n",
       "      <th>transaction_amount</th>\n",
       "      <th>transaction_type</th>\n",
       "      <th>_id_CREDIT</th>\n",
       "      <th>MAX_TIME</th>\n",
       "    </tr>\n",
       "  </thead>\n",
       "  <tbody>\n",
       "    <tr>\n",
       "      <th>427</th>\n",
       "      <td>f65cccf895d9faa686829c249d444cfc</td>\n",
       "      <td>6dc6a4a1de8fb43a749647ddf5602002</td>\n",
       "      <td>2021-04-06 10:39:37</td>\n",
       "      <td>1</td>\n",
       "      <td>2</td>\n",
       "      <td>594.44550123</td>\n",
       "      <td>594.44550123</td>\n",
       "      <td>075d178871d8d48502bf1f54887e52fe</td>\n",
       "      <td>2deb9bee5c441490adaf04eba0a4fbb0</td>\n",
       "      <td>a495d66c5e5b637c14fe8e1ab2ca9e92</td>\n",
       "      <td>2021-04-06 10:39:37</td>\n",
       "      <td>594.44550123</td>\n",
       "      <td>CREDITO</td>\n",
       "      <td>2deb9bee5c441490adaf04eba0a4fbb0</td>\n",
       "      <td>2021-04-07 10:39:37</td>\n",
       "    </tr>\n",
       "    <tr>\n",
       "      <th>428</th>\n",
       "      <td>f65cccf895d9faa686829c249d444cfc</td>\n",
       "      <td>6dc6a4a1de8fb43a749647ddf5602002</td>\n",
       "      <td>2021-04-06 10:39:37</td>\n",
       "      <td>1</td>\n",
       "      <td>2</td>\n",
       "      <td>594.44550123</td>\n",
       "      <td>594.44550123</td>\n",
       "      <td>817d18cd3c31e40e9bff0566baae7758</td>\n",
       "      <td>b40c21c17abaf25ba5a8bfa7de18713e</td>\n",
       "      <td>4baa10d32a94dbfe6e644fd0fb5d4ad5</td>\n",
       "      <td>2021-04-06 15:08:42</td>\n",
       "      <td>237.77820049</td>\n",
       "      <td>DEBITO</td>\n",
       "      <td>2deb9bee5c441490adaf04eba0a4fbb0</td>\n",
       "      <td>2021-04-07 10:39:37</td>\n",
       "    </tr>\n",
       "    <tr>\n",
       "      <th>429</th>\n",
       "      <td>f65cccf895d9faa686829c249d444cfc</td>\n",
       "      <td>6dc6a4a1de8fb43a749647ddf5602002</td>\n",
       "      <td>2021-04-06 10:39:37</td>\n",
       "      <td>1</td>\n",
       "      <td>2</td>\n",
       "      <td>594.44550123</td>\n",
       "      <td>594.44550123</td>\n",
       "      <td>817d18cd3c31e40e9bff0566baae7758</td>\n",
       "      <td>546d258f3f3ad35f69b7507cc0c3bca4</td>\n",
       "      <td>65c51d0a28402d1a208b0a6af4b67462</td>\n",
       "      <td>2021-04-06 20:56:21</td>\n",
       "      <td>356.66730074</td>\n",
       "      <td>DEBITO</td>\n",
       "      <td>2deb9bee5c441490adaf04eba0a4fbb0</td>\n",
       "      <td>2021-04-07 10:39:37</td>\n",
       "    </tr>\n",
       "  </tbody>\n",
       "</table>\n",
       "</div>"
      ],
      "text/plain": [
       "                              user_id                    account_number  \\\n",
       "427  f65cccf895d9faa686829c249d444cfc  6dc6a4a1de8fb43a749647ddf5602002   \n",
       "428  f65cccf895d9faa686829c249d444cfc  6dc6a4a1de8fb43a749647ddf5602002   \n",
       "429  f65cccf895d9faa686829c249d444cfc  6dc6a4a1de8fb43a749647ddf5602002   \n",
       "\n",
       "    transaction_date_CREDIT  CANTIDAD_CREDITO  CANTIDAD_DEBITO MONTO_CREDITO  \\\n",
       "427     2021-04-06 10:39:37                 1                2  594.44550123   \n",
       "428     2021-04-06 10:39:37                 1                2  594.44550123   \n",
       "429     2021-04-06 10:39:37                 1                2  594.44550123   \n",
       "\n",
       "     MONTO_DEBITO                       merchant_id  \\\n",
       "427  594.44550123  075d178871d8d48502bf1f54887e52fe   \n",
       "428  594.44550123  817d18cd3c31e40e9bff0566baae7758   \n",
       "429  594.44550123  817d18cd3c31e40e9bff0566baae7758   \n",
       "\n",
       "                                  _id                        subsidiary  \\\n",
       "427  2deb9bee5c441490adaf04eba0a4fbb0  a495d66c5e5b637c14fe8e1ab2ca9e92   \n",
       "428  b40c21c17abaf25ba5a8bfa7de18713e  4baa10d32a94dbfe6e644fd0fb5d4ad5   \n",
       "429  546d258f3f3ad35f69b7507cc0c3bca4  65c51d0a28402d1a208b0a6af4b67462   \n",
       "\n",
       "       transaction_date transaction_amount transaction_type  \\\n",
       "427 2021-04-06 10:39:37       594.44550123          CREDITO   \n",
       "428 2021-04-06 15:08:42       237.77820049           DEBITO   \n",
       "429 2021-04-06 20:56:21       356.66730074           DEBITO   \n",
       "\n",
       "                           _id_CREDIT            MAX_TIME  \n",
       "427  2deb9bee5c441490adaf04eba0a4fbb0 2021-04-07 10:39:37  \n",
       "428  2deb9bee5c441490adaf04eba0a4fbb0 2021-04-07 10:39:37  \n",
       "429  2deb9bee5c441490adaf04eba0a4fbb0 2021-04-07 10:39:37  "
      ]
     },
     "execution_count": 171,
     "metadata": {},
     "output_type": "execute_result"
    }
   ],
   "source": [
    "FULL_CASOS_END[(FULL_CASOS_END['_id_CREDIT'] == '2deb9bee5c441490adaf04eba0a4fbb0')]#.sort_values(by='CANTIDAD_DEBITO',ascending=False)"
   ]
  }
 ],
 "metadata": {
  "kernelspec": {
   "display_name": "Python 3 (ipykernel)",
   "language": "python",
   "name": "python3"
  },
  "language_info": {
   "codemirror_mode": {
    "name": "ipython",
    "version": 3
   },
   "file_extension": ".py",
   "mimetype": "text/x-python",
   "name": "python",
   "nbconvert_exporter": "python",
   "pygments_lexer": "ipython3",
   "version": "3.11.4"
  }
 },
 "nbformat": 4,
 "nbformat_minor": 5
}
